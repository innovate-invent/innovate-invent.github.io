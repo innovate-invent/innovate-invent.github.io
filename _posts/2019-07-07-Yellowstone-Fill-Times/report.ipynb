{
 "cells": [
  {
   "cell_type": "code",
   "execution_count": 1,
   "metadata": {
    "collapsed": true,
    "pycharm": {
     "name": "#%%\n",
     "is_executing": false
    }
   },
   "outputs": [
    {
     "data": {
      "text/plain": "                                 type fill_datetime updated_by_y time\nname                  date                                           \nBridge Bay Campground 2015-07-11  NaN           NaT          NaN  NaN\n                      2015-08-21  NaN           NaT          NaN  NaN\n                      2015-08-22  NaN           NaT          NaN  NaN\n                      2015-08-23  NaN           NaT          NaN  NaN\n                      2015-08-24  NaN           NaT          NaN  NaN\n                      2015-08-25  NaN           NaT          NaN  NaN\n                      2015-08-26  NaN           NaT          NaN  NaN\n                      2015-08-27  NaN           NaT          NaN  NaN\n                      2015-08-28  NaN           NaT          NaN  NaN\n                      2015-08-29  NaN           NaT          NaN  NaN\n                      2015-08-30  NaN           NaT          NaN  NaN\n                      2015-08-31  NaN           NaT          NaN  NaN\n                      2015-09-01  NaN           NaT          NaN  NaN\n                      2015-09-02  NaN           NaT          NaN  NaN\n                      2015-09-03  NaN           NaT          NaN  NaN\n                      2015-09-04  NaN           NaT          NaN  NaN\n                      2015-09-07  NaN           NaT          NaN  NaN\n                      2015-09-25  NaN           NaT          NaN  NaN\n                      2015-09-26  NaN           NaT          NaN  NaN\n                      2015-09-27  NaN           NaT          NaN  NaN\n                      2015-09-28  NaN           NaT          NaN  NaN\n                      2015-09-29  NaN           NaT          NaN  NaN\n                      2015-09-30  NaN           NaT          NaN  NaN\n                      2015-10-01  NaN           NaT          NaN  NaN\n                      2015-10-02  NaN           NaT          NaN  NaN\n                      2015-10-03  NaN           NaT          NaN  NaN\n                      2015-10-04  NaN           NaT          NaN  NaN\n                      2015-10-05  NaN           NaT          NaN  NaN\n                      2015-10-06  NaN           NaT          NaN  NaN\n                      2015-10-07  NaN           NaT          NaN  NaN\n...                               ...           ...          ...  ...\nTower Fall Campground 2019-04-29  NaN           NaT          NaN  NaN\n                      2019-04-30  NaN           NaT          NaN  NaN\n                      2019-05-01  NaN           NaT          NaN  NaN\n                      2019-05-02  NaN           NaT          NaN  NaN\n                      2019-05-03  NaN           NaT          NaN  NaN\n                      2019-05-04  NaN           NaT          NaN  NaN\n                      2019-05-05  NaN           NaT          NaN  NaN\n                      2019-05-06  NaN           NaT          NaN  NaN\n                      2019-05-07  NaN           NaT          NaN  NaN\n                      2019-05-08  NaN           NaT          NaN  NaN\n                      2019-05-09  NaN           NaT          NaN  NaN\n                      2019-05-10  NaN           NaT          NaN  NaN\n                      2019-05-11  NaN           NaT          NaN  NaN\n                      2019-05-12  NaN           NaT          NaN  NaN\n                      2019-05-13  NaN           NaT          NaN  NaN\n                      2019-05-14  NaN           NaT          NaN  NaN\n                      2019-05-15  NaN           NaT          NaN  NaN\n                      2019-05-16  NaN           NaT          NaN  NaN\n                      2019-05-17  NaN           NaT          NaN  NaN\n                      2019-05-18  NaN           NaT          NaN  NaN\n                      2019-05-19  NaN           NaT          NaN  NaN\n                      2019-05-20  NaN           NaT          NaN  NaN\n                      2019-05-21  NaN           NaT          NaN  NaN\n                      2019-05-22  NaN           NaT          NaN  NaN\n                      2019-05-23  NaN           NaT          NaN  NaN\n                      2019-05-24  NaN           NaT          NaN  NaN\n                      2019-05-28  NaN           NaT          NaN  NaN\n                      2019-06-05  NaN           NaT          NaN  NaN\n                      2019-06-09  NaN           NaT          NaN  NaN\n                      2019-06-10  NaN           NaT          NaN  NaN\n\n[21943 rows x 4 columns]",
      "text/html": "<div>\n<style scoped>\n    .dataframe tbody tr th:only-of-type {\n        vertical-align: middle;\n    }\n\n    .dataframe tbody tr th {\n        vertical-align: top;\n    }\n\n    .dataframe thead th {\n        text-align: right;\n    }\n</style>\n<table border=\"1\" class=\"dataframe\">\n  <thead>\n    <tr style=\"text-align: right;\">\n      <th></th>\n      <th></th>\n      <th>type</th>\n      <th>fill_datetime</th>\n      <th>updated_by_y</th>\n      <th>time</th>\n    </tr>\n    <tr>\n      <th>name</th>\n      <th>date</th>\n      <th></th>\n      <th></th>\n      <th></th>\n      <th></th>\n    </tr>\n  </thead>\n  <tbody>\n    <tr>\n      <th rowspan=\"30\" valign=\"top\">Bridge Bay Campground</th>\n      <th>2015-07-11</th>\n      <td>NaN</td>\n      <td>NaT</td>\n      <td>NaN</td>\n      <td>NaN</td>\n    </tr>\n    <tr>\n      <th>2015-08-21</th>\n      <td>NaN</td>\n      <td>NaT</td>\n      <td>NaN</td>\n      <td>NaN</td>\n    </tr>\n    <tr>\n      <th>2015-08-22</th>\n      <td>NaN</td>\n      <td>NaT</td>\n      <td>NaN</td>\n      <td>NaN</td>\n    </tr>\n    <tr>\n      <th>2015-08-23</th>\n      <td>NaN</td>\n      <td>NaT</td>\n      <td>NaN</td>\n      <td>NaN</td>\n    </tr>\n    <tr>\n      <th>2015-08-24</th>\n      <td>NaN</td>\n      <td>NaT</td>\n      <td>NaN</td>\n      <td>NaN</td>\n    </tr>\n    <tr>\n      <th>2015-08-25</th>\n      <td>NaN</td>\n      <td>NaT</td>\n      <td>NaN</td>\n      <td>NaN</td>\n    </tr>\n    <tr>\n      <th>2015-08-26</th>\n      <td>NaN</td>\n      <td>NaT</td>\n      <td>NaN</td>\n      <td>NaN</td>\n    </tr>\n    <tr>\n      <th>2015-08-27</th>\n      <td>NaN</td>\n      <td>NaT</td>\n      <td>NaN</td>\n      <td>NaN</td>\n    </tr>\n    <tr>\n      <th>2015-08-28</th>\n      <td>NaN</td>\n      <td>NaT</td>\n      <td>NaN</td>\n      <td>NaN</td>\n    </tr>\n    <tr>\n      <th>2015-08-29</th>\n      <td>NaN</td>\n      <td>NaT</td>\n      <td>NaN</td>\n      <td>NaN</td>\n    </tr>\n    <tr>\n      <th>2015-08-30</th>\n      <td>NaN</td>\n      <td>NaT</td>\n      <td>NaN</td>\n      <td>NaN</td>\n    </tr>\n    <tr>\n      <th>2015-08-31</th>\n      <td>NaN</td>\n      <td>NaT</td>\n      <td>NaN</td>\n      <td>NaN</td>\n    </tr>\n    <tr>\n      <th>2015-09-01</th>\n      <td>NaN</td>\n      <td>NaT</td>\n      <td>NaN</td>\n      <td>NaN</td>\n    </tr>\n    <tr>\n      <th>2015-09-02</th>\n      <td>NaN</td>\n      <td>NaT</td>\n      <td>NaN</td>\n      <td>NaN</td>\n    </tr>\n    <tr>\n      <th>2015-09-03</th>\n      <td>NaN</td>\n      <td>NaT</td>\n      <td>NaN</td>\n      <td>NaN</td>\n    </tr>\n    <tr>\n      <th>2015-09-04</th>\n      <td>NaN</td>\n      <td>NaT</td>\n      <td>NaN</td>\n      <td>NaN</td>\n    </tr>\n    <tr>\n      <th>2015-09-07</th>\n      <td>NaN</td>\n      <td>NaT</td>\n      <td>NaN</td>\n      <td>NaN</td>\n    </tr>\n    <tr>\n      <th>2015-09-25</th>\n      <td>NaN</td>\n      <td>NaT</td>\n      <td>NaN</td>\n      <td>NaN</td>\n    </tr>\n    <tr>\n      <th>2015-09-26</th>\n      <td>NaN</td>\n      <td>NaT</td>\n      <td>NaN</td>\n      <td>NaN</td>\n    </tr>\n    <tr>\n      <th>2015-09-27</th>\n      <td>NaN</td>\n      <td>NaT</td>\n      <td>NaN</td>\n      <td>NaN</td>\n    </tr>\n    <tr>\n      <th>2015-09-28</th>\n      <td>NaN</td>\n      <td>NaT</td>\n      <td>NaN</td>\n      <td>NaN</td>\n    </tr>\n    <tr>\n      <th>2015-09-29</th>\n      <td>NaN</td>\n      <td>NaT</td>\n      <td>NaN</td>\n      <td>NaN</td>\n    </tr>\n    <tr>\n      <th>2015-09-30</th>\n      <td>NaN</td>\n      <td>NaT</td>\n      <td>NaN</td>\n      <td>NaN</td>\n    </tr>\n    <tr>\n      <th>2015-10-01</th>\n      <td>NaN</td>\n      <td>NaT</td>\n      <td>NaN</td>\n      <td>NaN</td>\n    </tr>\n    <tr>\n      <th>2015-10-02</th>\n      <td>NaN</td>\n      <td>NaT</td>\n      <td>NaN</td>\n      <td>NaN</td>\n    </tr>\n    <tr>\n      <th>2015-10-03</th>\n      <td>NaN</td>\n      <td>NaT</td>\n      <td>NaN</td>\n      <td>NaN</td>\n    </tr>\n    <tr>\n      <th>2015-10-04</th>\n      <td>NaN</td>\n      <td>NaT</td>\n      <td>NaN</td>\n      <td>NaN</td>\n    </tr>\n    <tr>\n      <th>2015-10-05</th>\n      <td>NaN</td>\n      <td>NaT</td>\n      <td>NaN</td>\n      <td>NaN</td>\n    </tr>\n    <tr>\n      <th>2015-10-06</th>\n      <td>NaN</td>\n      <td>NaT</td>\n      <td>NaN</td>\n      <td>NaN</td>\n    </tr>\n    <tr>\n      <th>2015-10-07</th>\n      <td>NaN</td>\n      <td>NaT</td>\n      <td>NaN</td>\n      <td>NaN</td>\n    </tr>\n    <tr>\n      <th>...</th>\n      <th>...</th>\n      <td>...</td>\n      <td>...</td>\n      <td>...</td>\n      <td>...</td>\n    </tr>\n    <tr>\n      <th rowspan=\"30\" valign=\"top\">Tower Fall Campground</th>\n      <th>2019-04-29</th>\n      <td>NaN</td>\n      <td>NaT</td>\n      <td>NaN</td>\n      <td>NaN</td>\n    </tr>\n    <tr>\n      <th>2019-04-30</th>\n      <td>NaN</td>\n      <td>NaT</td>\n      <td>NaN</td>\n      <td>NaN</td>\n    </tr>\n    <tr>\n      <th>2019-05-01</th>\n      <td>NaN</td>\n      <td>NaT</td>\n      <td>NaN</td>\n      <td>NaN</td>\n    </tr>\n    <tr>\n      <th>2019-05-02</th>\n      <td>NaN</td>\n      <td>NaT</td>\n      <td>NaN</td>\n      <td>NaN</td>\n    </tr>\n    <tr>\n      <th>2019-05-03</th>\n      <td>NaN</td>\n      <td>NaT</td>\n      <td>NaN</td>\n      <td>NaN</td>\n    </tr>\n    <tr>\n      <th>2019-05-04</th>\n      <td>NaN</td>\n      <td>NaT</td>\n      <td>NaN</td>\n      <td>NaN</td>\n    </tr>\n    <tr>\n      <th>2019-05-05</th>\n      <td>NaN</td>\n      <td>NaT</td>\n      <td>NaN</td>\n      <td>NaN</td>\n    </tr>\n    <tr>\n      <th>2019-05-06</th>\n      <td>NaN</td>\n      <td>NaT</td>\n      <td>NaN</td>\n      <td>NaN</td>\n    </tr>\n    <tr>\n      <th>2019-05-07</th>\n      <td>NaN</td>\n      <td>NaT</td>\n      <td>NaN</td>\n      <td>NaN</td>\n    </tr>\n    <tr>\n      <th>2019-05-08</th>\n      <td>NaN</td>\n      <td>NaT</td>\n      <td>NaN</td>\n      <td>NaN</td>\n    </tr>\n    <tr>\n      <th>2019-05-09</th>\n      <td>NaN</td>\n      <td>NaT</td>\n      <td>NaN</td>\n      <td>NaN</td>\n    </tr>\n    <tr>\n      <th>2019-05-10</th>\n      <td>NaN</td>\n      <td>NaT</td>\n      <td>NaN</td>\n      <td>NaN</td>\n    </tr>\n    <tr>\n      <th>2019-05-11</th>\n      <td>NaN</td>\n      <td>NaT</td>\n      <td>NaN</td>\n      <td>NaN</td>\n    </tr>\n    <tr>\n      <th>2019-05-12</th>\n      <td>NaN</td>\n      <td>NaT</td>\n      <td>NaN</td>\n      <td>NaN</td>\n    </tr>\n    <tr>\n      <th>2019-05-13</th>\n      <td>NaN</td>\n      <td>NaT</td>\n      <td>NaN</td>\n      <td>NaN</td>\n    </tr>\n    <tr>\n      <th>2019-05-14</th>\n      <td>NaN</td>\n      <td>NaT</td>\n      <td>NaN</td>\n      <td>NaN</td>\n    </tr>\n    <tr>\n      <th>2019-05-15</th>\n      <td>NaN</td>\n      <td>NaT</td>\n      <td>NaN</td>\n      <td>NaN</td>\n    </tr>\n    <tr>\n      <th>2019-05-16</th>\n      <td>NaN</td>\n      <td>NaT</td>\n      <td>NaN</td>\n      <td>NaN</td>\n    </tr>\n    <tr>\n      <th>2019-05-17</th>\n      <td>NaN</td>\n      <td>NaT</td>\n      <td>NaN</td>\n      <td>NaN</td>\n    </tr>\n    <tr>\n      <th>2019-05-18</th>\n      <td>NaN</td>\n      <td>NaT</td>\n      <td>NaN</td>\n      <td>NaN</td>\n    </tr>\n    <tr>\n      <th>2019-05-19</th>\n      <td>NaN</td>\n      <td>NaT</td>\n      <td>NaN</td>\n      <td>NaN</td>\n    </tr>\n    <tr>\n      <th>2019-05-20</th>\n      <td>NaN</td>\n      <td>NaT</td>\n      <td>NaN</td>\n      <td>NaN</td>\n    </tr>\n    <tr>\n      <th>2019-05-21</th>\n      <td>NaN</td>\n      <td>NaT</td>\n      <td>NaN</td>\n      <td>NaN</td>\n    </tr>\n    <tr>\n      <th>2019-05-22</th>\n      <td>NaN</td>\n      <td>NaT</td>\n      <td>NaN</td>\n      <td>NaN</td>\n    </tr>\n    <tr>\n      <th>2019-05-23</th>\n      <td>NaN</td>\n      <td>NaT</td>\n      <td>NaN</td>\n      <td>NaN</td>\n    </tr>\n    <tr>\n      <th>2019-05-24</th>\n      <td>NaN</td>\n      <td>NaT</td>\n      <td>NaN</td>\n      <td>NaN</td>\n    </tr>\n    <tr>\n      <th>2019-05-28</th>\n      <td>NaN</td>\n      <td>NaT</td>\n      <td>NaN</td>\n      <td>NaN</td>\n    </tr>\n    <tr>\n      <th>2019-06-05</th>\n      <td>NaN</td>\n      <td>NaT</td>\n      <td>NaN</td>\n      <td>NaN</td>\n    </tr>\n    <tr>\n      <th>2019-06-09</th>\n      <td>NaN</td>\n      <td>NaT</td>\n      <td>NaN</td>\n      <td>NaN</td>\n    </tr>\n    <tr>\n      <th>2019-06-10</th>\n      <td>NaN</td>\n      <td>NaT</td>\n      <td>NaN</td>\n      <td>NaN</td>\n    </tr>\n  </tbody>\n</table>\n<p>21943 rows × 4 columns</p>\n</div>"
     },
     "metadata": {},
     "output_type": "execute_result",
     "execution_count": 1
    }
   ],
   "source": [
    "# Load data\n",
    "import pandas\n",
    "import json\n",
    "from bokeh.plotting import figure, show, output_file\n",
    "from bokeh.layouts import column\n",
    "from bokeh.models import ColumnDataSource, Legend, LegendItem, HoverTool, Range1d\n",
    "from bokeh.transform import factor_mark, factor_cmap\n",
    "\n",
    "# See https://www.nps.gov/yell/planyourvisit/campgrounds.htm\n",
    "\n",
    "# https://nps-yell.cartodb.com/api/v2/sql?q=SELECT%20*%20FROM%20campgrounds_and_lodging\n",
    "with open('./campgrounds.json') as fd: \n",
    "  sites = json.load(fd)\n",
    "sites = pandas.DataFrame.from_dict(sites['rows'])\n",
    "# https://nps-yell.cartodb.com/api/v2/sql?q=SELECT%20*%20FROM%20campgrounds_and_lodging_status\n",
    "with open('closetimes-11-6-2019.json') as fd:\n",
    "  times = json.load(fd)\n",
    "times = pandas.DataFrame.from_dict(times['rows'])\n",
    "merged = sites.merge(times, on='npmap_id')\n",
    "\n",
    "# Merge and fill missing data\n",
    "data = merged.filter(['name', 'type', 'fill_datetime' , 'updated_by_y'])\n",
    "\n",
    "# Convert to local time\n",
    "data['fill_datetime'] = pandas.to_datetime(data['fill_datetime']).dt.tz_convert('US/Mountain')\n",
    "\n",
    "# Remove empty records\n",
    "data = data.loc[data.fill_datetime.notna()]\n",
    "\n",
    "# Separate fill time and fill date from fill_datetime\n",
    "data['time'] = [\n",
    "  d.time() # (d + pandas.Timedelta(hours=-7))\n",
    "  for d in data['fill_datetime']\n",
    "]\n",
    "data['date'] = [d.date() for d in pandas.to_datetime(data['fill_datetime'])]\n",
    "\n",
    "# Set the index and remove duplicate records per location-date\n",
    "data.set_index(['name', 'date'], inplace=True)\n",
    "data = data.sort_values(by='fill_datetime')\n",
    "data = data.loc[~data.index.duplicated(keep='last')]\n",
    "\n",
    "# Add all missing dates per location\n",
    "date_domain = pandas.date_range(data.index.levels[1].min(), data.index.levels[1].max(), freq='D')\n",
    "index = pandas.MultiIndex.from_product([data.index.levels[0], date_domain], names=['name', 'date'])\n",
    "data = data.reindex(index)\n",
    "\n",
    "data.loc[data.time.isna()]\n"
   ]
  },
  {
   "cell_type": "code",
   "execution_count": 2,
   "outputs": [
    {
     "data": {
      "text/plain": "                                        type             fill_datetime  \\\nname                  date                                               \nBridge Bay Campground 2015-07-11  Campground                       NaT   \n                      2015-07-12  Campground 2015-07-12 06:50:00-06:00   \n                      2015-07-13  Campground 2015-07-13 06:50:00-06:00   \n                      2015-07-14  Campground 2015-07-14 06:48:00-06:00   \n                      2015-07-15  Campground 2015-07-15 06:46:00-06:00   \n\n                                      updated_by_y      time  \nname                  date                                    \nBridge Bay Campground 2015-07-11               NaN  23:59:00  \n                      2015-07-12   Nathaniel Irwin  06:50:00  \n                      2015-07-13    Tami Blackford  06:50:00  \n                      2015-07-14    Kaelyn Johnson  06:48:00  \n                      2015-07-15  Elizabeth Dreyer  06:46:00  ",
      "text/html": "<div>\n<style scoped>\n    .dataframe tbody tr th:only-of-type {\n        vertical-align: middle;\n    }\n\n    .dataframe tbody tr th {\n        vertical-align: top;\n    }\n\n    .dataframe thead th {\n        text-align: right;\n    }\n</style>\n<table border=\"1\" class=\"dataframe\">\n  <thead>\n    <tr style=\"text-align: right;\">\n      <th></th>\n      <th></th>\n      <th>type</th>\n      <th>fill_datetime</th>\n      <th>updated_by_y</th>\n      <th>time</th>\n    </tr>\n    <tr>\n      <th>name</th>\n      <th>date</th>\n      <th></th>\n      <th></th>\n      <th></th>\n      <th></th>\n    </tr>\n  </thead>\n  <tbody>\n    <tr>\n      <th rowspan=\"5\" valign=\"top\">Bridge Bay Campground</th>\n      <th>2015-07-11</th>\n      <td>Campground</td>\n      <td>NaT</td>\n      <td>NaN</td>\n      <td>23:59:00</td>\n    </tr>\n    <tr>\n      <th>2015-07-12</th>\n      <td>Campground</td>\n      <td>2015-07-12 06:50:00-06:00</td>\n      <td>Nathaniel Irwin</td>\n      <td>06:50:00</td>\n    </tr>\n    <tr>\n      <th>2015-07-13</th>\n      <td>Campground</td>\n      <td>2015-07-13 06:50:00-06:00</td>\n      <td>Tami Blackford</td>\n      <td>06:50:00</td>\n    </tr>\n    <tr>\n      <th>2015-07-14</th>\n      <td>Campground</td>\n      <td>2015-07-14 06:48:00-06:00</td>\n      <td>Kaelyn Johnson</td>\n      <td>06:48:00</td>\n    </tr>\n    <tr>\n      <th>2015-07-15</th>\n      <td>Campground</td>\n      <td>2015-07-15 06:46:00-06:00</td>\n      <td>Elizabeth Dreyer</td>\n      <td>06:46:00</td>\n    </tr>\n  </tbody>\n</table>\n</div>"
     },
     "metadata": {},
     "output_type": "execute_result",
     "execution_count": 2
    }
   ],
   "source": [
    "# Fill missing values\n",
    "data['type'] = data.groupby('name')['type'].fillna(method='backfill').fillna(method='pad')\n",
    "end_of_day = pandas.Timestamp('23:59:00').time()\n",
    "data['time'] = data['time'].fillna(end_of_day)\n",
    "\n",
    "data[:5]\n"
   ],
   "metadata": {
    "collapsed": false,
    "pycharm": {
     "name": "#%%\n",
     "is_executing": false
    }
   }
  },
  {
   "cell_type": "code",
   "execution_count": 3,
   "outputs": [
    {
     "data": {
      "text/plain": "                    name       date        type             fill_datetime  \\\n0  Bridge Bay Campground 2015-07-11  Campground                       NaT   \n1  Bridge Bay Campground 2015-07-12  Campground 2015-07-12 06:50:00-06:00   \n2  Bridge Bay Campground 2015-07-13  Campground 2015-07-13 06:50:00-06:00   \n3  Bridge Bay Campground 2015-07-14  Campground 2015-07-14 06:48:00-06:00   \n4  Bridge Bay Campground 2015-07-15  Campground 2015-07-15 06:46:00-06:00   \n\n       updated_by_y      time  year weekaligned_date   flatdate  \\\n0               NaN  23:59:00  2015       2015-07-14 2016-07-11   \n1   Nathaniel Irwin  06:50:00  2015       2015-07-15 2016-07-12   \n2    Tami Blackford  06:50:00  2015       2015-07-16 2016-07-13   \n3    Kaelyn Johnson  06:48:00  2015       2015-07-17 2016-07-14   \n4  Elizabeth Dreyer  06:46:00  2015       2015-07-18 2016-07-15   \n\n  weekaligned_flatdate  \n0           2016-07-14  \n1           2016-07-15  \n2           2016-07-16  \n3           2016-07-17  \n4           2016-07-18  ",
      "text/html": "<div>\n<style scoped>\n    .dataframe tbody tr th:only-of-type {\n        vertical-align: middle;\n    }\n\n    .dataframe tbody tr th {\n        vertical-align: top;\n    }\n\n    .dataframe thead th {\n        text-align: right;\n    }\n</style>\n<table border=\"1\" class=\"dataframe\">\n  <thead>\n    <tr style=\"text-align: right;\">\n      <th></th>\n      <th>name</th>\n      <th>date</th>\n      <th>type</th>\n      <th>fill_datetime</th>\n      <th>updated_by_y</th>\n      <th>time</th>\n      <th>year</th>\n      <th>weekaligned_date</th>\n      <th>flatdate</th>\n      <th>weekaligned_flatdate</th>\n    </tr>\n  </thead>\n  <tbody>\n    <tr>\n      <th>0</th>\n      <td>Bridge Bay Campground</td>\n      <td>2015-07-11</td>\n      <td>Campground</td>\n      <td>NaT</td>\n      <td>NaN</td>\n      <td>23:59:00</td>\n      <td>2015</td>\n      <td>2015-07-14</td>\n      <td>2016-07-11</td>\n      <td>2016-07-14</td>\n    </tr>\n    <tr>\n      <th>1</th>\n      <td>Bridge Bay Campground</td>\n      <td>2015-07-12</td>\n      <td>Campground</td>\n      <td>2015-07-12 06:50:00-06:00</td>\n      <td>Nathaniel Irwin</td>\n      <td>06:50:00</td>\n      <td>2015</td>\n      <td>2015-07-15</td>\n      <td>2016-07-12</td>\n      <td>2016-07-15</td>\n    </tr>\n    <tr>\n      <th>2</th>\n      <td>Bridge Bay Campground</td>\n      <td>2015-07-13</td>\n      <td>Campground</td>\n      <td>2015-07-13 06:50:00-06:00</td>\n      <td>Tami Blackford</td>\n      <td>06:50:00</td>\n      <td>2015</td>\n      <td>2015-07-16</td>\n      <td>2016-07-13</td>\n      <td>2016-07-16</td>\n    </tr>\n    <tr>\n      <th>3</th>\n      <td>Bridge Bay Campground</td>\n      <td>2015-07-14</td>\n      <td>Campground</td>\n      <td>2015-07-14 06:48:00-06:00</td>\n      <td>Kaelyn Johnson</td>\n      <td>06:48:00</td>\n      <td>2015</td>\n      <td>2015-07-17</td>\n      <td>2016-07-14</td>\n      <td>2016-07-17</td>\n    </tr>\n    <tr>\n      <th>4</th>\n      <td>Bridge Bay Campground</td>\n      <td>2015-07-15</td>\n      <td>Campground</td>\n      <td>2015-07-15 06:46:00-06:00</td>\n      <td>Elizabeth Dreyer</td>\n      <td>06:46:00</td>\n      <td>2015</td>\n      <td>2015-07-18</td>\n      <td>2016-07-15</td>\n      <td>2016-07-18</td>\n    </tr>\n  </tbody>\n</table>\n</div>"
     },
     "metadata": {},
     "output_type": "execute_result",
     "execution_count": 3
    }
   ],
   "source": [
    "# Transform data for plot\n",
    "data['year'] = [d.year for d in data.index.get_level_values('date')]\n",
    "data['weekaligned_date'] = [\n",
    "  date \n",
    "  + pandas.Timedelta(days=pandas.Timestamp(year=year, month=1, day=1).weekday()) # Align on day of week of Jan 1 for that year\n",
    "  + pandas.Timedelta(days=1 if pandas.Timestamp(date).is_leap_year and pandas.Timestamp(date) >= pandas.Timestamp(year=year, month=2, day=29) else 0) # Adjust for leap year\n",
    "  for date, year in zip(data.index.get_level_values('date'), data['year'])\n",
    "]\n",
    "# Flatten all years to 2016 so that they overlap. 2016 is a leapyear making it a superset of dates of the other years\n",
    "data['flatdate'] = [pandas.Timestamp(year=2016, month=d.month, day=d.day, freq='d') for d in data.index.get_level_values('date')]\n",
    "data['weekaligned_flatdate'] = [pandas.Timestamp(year=2016, month=d.month, day=d.day, freq='d') for d in data['weekaligned_date']]\n",
    "\n",
    "# Convert year to string for categorical and reset index cuz bokeh cray\n",
    "data['year'] = data['year'].astype(str)\n",
    "data = data.reset_index()\n",
    "data = data.sort_values(['type', 'year'])\n",
    "data[:5]\n"
   ],
   "metadata": {
    "collapsed": false,
    "pycharm": {
     "name": "#%%\n",
     "is_executing": false
    }
   }
  },
  {
   "cell_type": "code",
   "execution_count": 8,
   "outputs": [],
   "source": [
    "# Prepare figure\n",
    "palette = ('#e6194b', '#3cb44b', '#ffe119', '#4363d8', '#f58231', '#911eb4', '#46f0f0', '#f032e6', '#bcf60c', '#fabebe', '#008080', '#e6beff', '#9a6324', '#fffac8', '#800000', '#aaffc3', '#808000', '#ffd8b1', '#000075', '#808080', '#000000')\n",
    "y_range = Range1d(0, 8.64e+7) # 8.64e+7 milliseconds in a day\n",
    "x_range = Range1d(data.flatdate.min(), data.flatdate.max())\n",
    "\n",
    "def build_figure(data, x_col, title, types):\n",
    "  # Assign marker to years and color to names\n",
    "  colormap = {name : palette[i] for i, name in enumerate(data.name.unique())}\n",
    "  markermap = {year: ['hex', 'circle_x', 'triangle', 'square', 'diamond'][i] for i, year in enumerate(data.year.unique())}\n",
    "  \n",
    "  fig = figure(\n",
    "    title=title,\n",
    "    width=1800,\n",
    "    height=800,\n",
    "    x_range=x_range,\n",
    "    y_range=y_range,\n",
    "    x_axis_type='datetime',\n",
    "    y_axis_type='datetime',\n",
    "    active_scroll='wheel_zoom',\n",
    "  )\n",
    "  \n",
    "  # Bind data to figure and generate year legend\n",
    "  legend_items = [\n",
    "    LegendItem(label=year, renderers=[\n",
    "      fig.scatter(\n",
    "        source=ColumnDataSource(data.loc[(data.name == name) & (data.year == year) & (data.type.isin(types))]),\n",
    "        x=x_col, \n",
    "        y='time',\n",
    "        color=colormap[name],\n",
    "        marker=markermap[year],\n",
    "        fill_alpha=0.4, \n",
    "        size=8,\n",
    "        legend=name,\n",
    "        name=name,\n",
    "      ) for name in data.name.unique()\n",
    "    ]) for year in data.year.unique()\n",
    "  ]\n",
    "  fig.legend.location = 'top_left'\n",
    "  fig.legend.click_policy=\"hide\"\n",
    "  \n",
    "  # Configure data tool tips\n",
    "  hover = HoverTool(\n",
    "    tooltips=[\n",
    "      (\"Location\",\"$name\"),\n",
    "      (\"Filled at\", \"@time{%l:%M %P}\"),\n",
    "      (\"On\", \"@date{%a %F}\"),\n",
    "      #(\"Updated by\", \"@updated_by_y\"),\n",
    "    ],\n",
    "    formatters = {\n",
    "      'date': 'datetime',\n",
    "      'time': 'datetime',\n",
    "    },\n",
    "  )\n",
    "  fig.add_tools(hover)\n",
    "  \n",
    "  legend = Legend(items=legend_items, click_policy=\"hide\")\n",
    "  fig.add_layout(legend)\n",
    "  \n",
    "  # Format axis\n",
    "  fig.xaxis[0].ticker.desired_num_ticks = 24\n",
    "  fig.xaxis[0].formatter.days = \"%b %d\"\n",
    "  fig.xaxis[0].formatter.months = \"%b %d\"\n",
    "  fig.yaxis[0].formatter.hourmin = \"%l:%M %P\"\n",
    "  fig.yaxis[0].ticker.desired_num_ticks = 24\n",
    "  fig.yaxis[0].formatter.hours = \"%l:%M %P\"\n",
    "  fig.yaxis[0].formatter.days = \"%l:%M %P\"\n",
    "  return fig\n",
    "\n",
    "show(column(\n",
    "  build_figure(data, 'flatdate', \"Yellowstone National Park Fill Times\", [\"Campground\",]), \n",
    "  build_figure(data, 'weekaligned_flatdate', \"Yellowstone National Park Fill Times - Aligned on week day\", [\"Campground\",])\n",
    "))\n"
   ],
   "metadata": {
    "collapsed": false,
    "pycharm": {
     "name": "#%%\n",
     "is_executing": false
    }
   }
  }
 ],
 "metadata": {
  "language_info": {
   "codemirror_mode": {
    "name": "ipython",
    "version": 2
   },
   "file_extension": ".py",
   "mimetype": "text/x-python",
   "name": "python",
   "nbconvert_exporter": "python",
   "pygments_lexer": "ipython2",
   "version": "2.7.6"
  },
  "kernelspec": {
   "name": "python3",
   "language": "python",
   "display_name": "Python 3"
  },
  "pycharm": {
   "stem_cell": {
    "cell_type": "raw",
    "source": [
     "# Yellowstone National Park fill times\n",
     "# Nolan Woods (nolan@i2labs.ca) 2019-06-11"
    ],
    "metadata": {
     "collapsed": false
    }
   }
  }
 },
 "nbformat": 4,
 "nbformat_minor": 0
}